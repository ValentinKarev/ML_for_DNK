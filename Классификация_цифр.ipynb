{
  "cells": [
    {
      "cell_type": "markdown",
      "metadata": {
        "id": "view-in-github",
        "colab_type": "text"
      },
      "source": [
        "<a href=\"https://colab.research.google.com/github/ValentinKarev/ML_for_DNK/blob/main/%D0%9A%D0%BB%D0%B0%D1%81%D1%81%D0%B8%D1%84%D0%B8%D0%BA%D0%B0%D1%86%D0%B8%D1%8F_%D1%86%D0%B8%D1%84%D1%80.ipynb\" target=\"_parent\"><img src=\"https://colab.research.google.com/assets/colab-badge.svg\" alt=\"Open In Colab\"/></a>"
      ]
    },
    {
      "cell_type": "markdown",
      "metadata": {
        "id": "orF56tSuT5fI"
      },
      "source": [
        "# Задание 2.2 - Введение в PyTorch\n",
        "\n",
        "Для этого задания потребуется установить версию PyTorch 1.0\n",
        "\n",
        "https://pytorch.org/get-started/locally/\n",
        "\n",
        "В этом задании мы познакомимся с основными компонентами PyTorch и натренируем несколько небольших моделей.<br>\n",
        "GPU нам пока не понадобится.\n",
        "\n",
        "Основные ссылки:  \n",
        "https://pytorch.org/tutorials/beginner/deep_learning_60min_blitz.html  \n",
        "https://pytorch.org/docs/stable/nn.html  \n",
        "https://pytorch.org/docs/stable/torchvision/index.html  "
      ]
    },
    {
      "cell_type": "code",
      "execution_count": 1,
      "metadata": {
        "id": "tvzq31dhT5fO",
        "scrolled": true
      },
      "outputs": [],
      "source": [
        "import torch\n",
        "import torch.nn as nn\n",
        "import torch.optim as optim\n",
        "import torchvision.datasets as dset\n",
        "from torch.utils.data.sampler import SubsetRandomSampler, Sampler\n",
        "\n",
        "from torchvision import transforms\n",
        "\n",
        "import matplotlib.pyplot as plt\n",
        "%matplotlib inline\n",
        "\n",
        "import numpy as np"
      ]
    },
    {
      "cell_type": "markdown",
      "metadata": {
        "id": "jjmDwq1ST5fe"
      },
      "source": [
        "## Как всегда, начинаем с загрузки данных\n",
        "\n",
        "PyTorch поддерживает загрузку SVHN из коробки."
      ]
    },
    {
      "cell_type": "code",
      "execution_count": 2,
      "metadata": {
        "colab": {
          "base_uri": "https://localhost:8080/"
        },
        "id": "6IDk9lOFT5fj",
        "scrolled": true,
        "outputId": "789dca0b-9b96-4f34-83bf-696ff0211967"
      },
      "outputs": [
        {
          "output_type": "stream",
          "name": "stdout",
          "text": [
            "Downloading http://ufldl.stanford.edu/housenumbers/train_32x32.mat to ./data/train_32x32.mat\n"
          ]
        },
        {
          "output_type": "stream",
          "name": "stderr",
          "text": [
            "100%|██████████| 182040794/182040794 [00:47<00:00, 3848263.69it/s]\n"
          ]
        },
        {
          "output_type": "stream",
          "name": "stdout",
          "text": [
            "Downloading http://ufldl.stanford.edu/housenumbers/test_32x32.mat to ./data/test_32x32.mat\n"
          ]
        },
        {
          "output_type": "stream",
          "name": "stderr",
          "text": [
            "100%|██████████| 64275384/64275384 [00:18<00:00, 3482803.00it/s]\n"
          ]
        }
      ],
      "source": [
        "# First, lets load the dataset\n",
        "data_train = dset.SVHN('./data', split='train', download=True,\n",
        "                       transform=transforms.Compose([\n",
        "                           transforms.ToTensor(),\n",
        "                           transforms.Normalize(mean=[0.43,0.44,0.47],\n",
        "                                               std=[0.20,0.20,0.20])\n",
        "                       ])\n",
        "                      )\n",
        "data_test = dset.SVHN('./data', split='test', download=True,\n",
        "                      transform=transforms.Compose([\n",
        "                           transforms.ToTensor(),\n",
        "                           transforms.Normalize(mean=[0.43,0.44,0.47],\n",
        "                                               std=[0.20,0.20,0.20])\n",
        "                       ]))"
      ]
    },
    {
      "cell_type": "markdown",
      "metadata": {
        "id": "aBSHV_F8T5fu"
      },
      "source": [
        "Теперь мы разделим данные на training и validation с использованием классов `SubsetRandomSampler` и `DataLoader`.\n",
        "\n",
        "`DataLoader` подгружает данные, предоставляемые классом `Dataset`, во время тренировки и группирует их в батчи.\n",
        "Он дает возможность указать `Sampler`, который выбирает, какие примеры из датасета использовать для тренировки. Мы используем это, чтобы разделить данные на training и validation.\n",
        "\n",
        "Подробнее: https://pytorch.org/tutorials/beginner/data_loading_tutorial.html"
      ]
    },
    {
      "cell_type": "code",
      "execution_count": 3,
      "metadata": {
        "id": "8Ne31sVzT5f0",
        "scrolled": true
      },
      "outputs": [],
      "source": [
        "batch_size = 16\n",
        "\n",
        "data_size = data_train.data.shape[0]\n",
        "validation_split = .2\n",
        "split = int(np.floor(validation_split * data_size))\n",
        "indices = list(range(data_size))\n",
        "np.random.shuffle(indices)\n",
        "\n",
        "train_indices, val_indices = indices[split:], indices[:split]\n",
        "\n",
        "train_sampler = SubsetRandomSampler(train_indices)\n",
        "val_sampler = SubsetRandomSampler(val_indices)\n",
        "\n",
        "train_loader = torch.utils.data.DataLoader(data_train, batch_size=batch_size,\n",
        "                                           sampler=train_sampler)\n",
        "val_loader = torch.utils.data.DataLoader(data_train, batch_size=batch_size,\n",
        "                                         sampler=val_sampler)"
      ]
    },
    {
      "cell_type": "markdown",
      "metadata": {
        "id": "rYsuNr7AT5gF"
      },
      "source": [
        "В нашей задаче мы получаем на вход изображения, но работаем с ними как с одномерными массивами. Чтобы превратить многомерный массив в одномерный, мы воспользуемся очень простым вспомогательным модулем `Flattener`."
      ]
    },
    {
      "cell_type": "code",
      "execution_count": 4,
      "metadata": {
        "colab": {
          "base_uri": "https://localhost:8080/"
        },
        "id": "IuvV18QgT5gJ",
        "outputId": "7b76e079-7003-4226-9f0b-23be40cc0ed0",
        "scrolled": true
      },
      "outputs": [
        {
          "output_type": "stream",
          "name": "stdout",
          "text": [
            "SVHN data sample shape:  torch.Size([3, 32, 32])\n"
          ]
        }
      ],
      "source": [
        "sample, label = data_train[0]\n",
        "print(\"SVHN data sample shape: \", sample.shape)\n",
        "# As you can see, the data is shaped like an image\n",
        "\n",
        "# We'll use a special helper module to shape it into a tensor\n",
        "class Flattener(nn.Module):\n",
        "    def forward(self, x):\n",
        "        batch_size, *_ = x.shape\n",
        "        return x.view(batch_size, -1)"
      ]
    },
    {
      "cell_type": "markdown",
      "metadata": {
        "id": "M5sTNgm2T5gg"
      },
      "source": [
        "И наконец, мы создаем основные объекты PyTorch:\n",
        "- `nn_model` - собственно, модель с нейросетью\n",
        "- `loss` - функцию ошибки, в нашем случае `CrossEntropyLoss`\n",
        "- `optimizer` - алгоритм оптимизации, в нашем случае просто `SGD`"
      ]
    },
    {
      "cell_type": "code",
      "execution_count": 5,
      "metadata": {
        "id": "KX3i0E-zT5gl",
        "scrolled": true
      },
      "outputs": [],
      "source": [
        "nn_model = nn.Sequential(\n",
        "            Flattener(), #Это необходимо оставить, все остальное можно изменить\n",
        "            nn.Linear(3*32*32, 100),\n",
        "            nn.ReLU(inplace=True),\n",
        "            nn.Linear(100, 99),\n",
        "            nn.ReLU(inplace=True),\n",
        "            nn.Linear(99, 10),\n",
        "         )\n",
        "nn_model.type(torch.FloatTensor)\n",
        "\n",
        "# We will minimize cross-entropy between the ground truth and\n",
        "# network predictions using an SGD optimizer\n",
        "loss = nn.CrossEntropyLoss().type(torch.FloatTensor)\n",
        "optimizer = optim.SGD(nn_model.parameters(), lr=1e-2, weight_decay=1e-1)"
      ]
    },
    {
      "cell_type": "markdown",
      "metadata": {
        "id": "c07NFo8kT5gv"
      },
      "source": [
        "## Тренируем!\n",
        "\n",
        "Ниже приведена функция `train_model`, реализующая основной цикл тренировки PyTorch.\n",
        "\n",
        "Каждую эпоху эта функция вызывает функцию `compute_accuracy`, которая вычисляет точность на validation, эту последнюю функцию предлагается реализовать вам."
      ]
    },
    {
      "cell_type": "code",
      "execution_count": 6,
      "metadata": {
        "id": "abiYAM0eT5gz",
        "scrolled": true
      },
      "outputs": [],
      "source": [
        "# This is how to implement the same main train loop in PyTorch. Pretty easy, right?\n",
        "\n",
        "def train_model(model, train_loader, val_loader, loss, optimizer, num_epochs):\n",
        "    loss_history = []\n",
        "    train_history = []\n",
        "    val_history = []\n",
        "    for epoch in range(num_epochs):\n",
        "        model.train() # Enter train mode\n",
        "\n",
        "        loss_accum = 0\n",
        "        correct_samples = 0\n",
        "        total_samples = 0\n",
        "        for i_step, (x, y) in enumerate(train_loader):\n",
        "            prediction = model(x)\n",
        "            loss_value = loss(prediction, y)\n",
        "            optimizer.zero_grad()\n",
        "            loss_value.backward()\n",
        "            optimizer.step()\n",
        "\n",
        "            _, indices = torch.max(prediction, 1)\n",
        "            correct_samples += torch.sum(indices == y)\n",
        "            total_samples += y.shape[0]\n",
        "\n",
        "            loss_accum += loss_value\n",
        "\n",
        "        ave_loss = loss_accum / (i_step + 1)\n",
        "        train_accuracy = float(correct_samples) / total_samples\n",
        "        val_accuracy = compute_accuracy(model, val_loader)\n",
        "\n",
        "        loss_history.append(float(ave_loss))\n",
        "        train_history.append(train_accuracy)\n",
        "        val_history.append(val_accuracy)\n",
        "\n",
        "        print(\"Average loss: %f, Train accuracy: %f, Val accuracy: %f\" % (ave_loss, train_accuracy, val_accuracy))\n",
        "\n",
        "    return loss_history, train_history, val_history\n",
        "\n",
        "def compute_accuracy(model, loader):\n",
        "    \"\"\"\n",
        "    Computes accuracy on the dataset wrapped in a loader\n",
        "\n",
        "    Returns: accuracy as a float value between 0 and 1\n",
        "    \"\"\"\n",
        "    model.eval() # Evaluation mode\n",
        "    # TODO: Implement the inference of the model on all of the batches from loader,\n",
        "    #       and compute the overall accuracy.\n",
        "    # Hint: torch doesn't have a dedicated argmax function,\n",
        "    #       but you can use torch.max instead (see the documentation).\n",
        "    correct_samples = 0\n",
        "    total_samples = 0\n",
        "\n",
        "    for x, y in loader:\n",
        "        prediction = model(x)\n",
        "\n",
        "        _, indices = torch.max(prediction, 1)\n",
        "        correct_samples += torch.sum(indices == y)\n",
        "        total_samples += y.shape[0]\n",
        "\n",
        "    return float(correct_samples) / total_samples\n",
        "\n"
      ]
    },
    {
      "cell_type": "code",
      "source": [
        "loss_history, train_history, val_history = train_model(nn_model, train_loader, val_loader, loss, optimizer, 3)"
      ],
      "metadata": {
        "colab": {
          "base_uri": "https://localhost:8080/"
        },
        "id": "-_PYAfxcTOGM",
        "outputId": "c14a1d25-7f2e-4d4a-9008-6cedc8887bb3"
      },
      "execution_count": 7,
      "outputs": [
        {
          "output_type": "stream",
          "name": "stdout",
          "text": [
            "Average loss: 1.971324, Train accuracy: 0.295431, Val accuracy: 0.401747\n",
            "Average loss: 1.719035, Train accuracy: 0.412893, Val accuracy: 0.439970\n",
            "Average loss: 1.703533, Train accuracy: 0.423540, Val accuracy: 0.425363\n"
          ]
        }
      ]
    },
    {
      "cell_type": "markdown",
      "metadata": {
        "id": "nRsW92kvT5hE"
      },
      "source": [
        "## После основного цикла\n",
        "\n",
        "Посмотрим на другие возможности и оптимизации, которые предоставляет PyTorch.\n",
        "\n",
        "Добавьте еще один скрытый слой размера 100 нейронов к модели"
      ]
    },
    {
      "cell_type": "code",
      "execution_count": null,
      "metadata": {
        "id": "sVhLU0oiT5hJ",
        "scrolled": true
      },
      "outputs": [],
      "source": [
        "# Since it's so easy to add layers, let's add some!\n",
        "\n",
        "# TODO: Implement a model with 2 hidden layers of the size 100\n",
        "nn_model = nn.Sequential(\n",
        "            Flattener(),\n",
        "            nn.Linear(3 * 32 * 32, 100),\n",
        "            nn.ReLU(inplace=True),\n",
        "            nn.Linear(100, 100),\n",
        "            nn.ReLU(inplace=True),\n",
        "            nn.Linear(100, 10),\n",
        "         )\n",
        "nn_model.type(torch.FloatTensor)\n",
        "\n",
        "optimizer = optim.SGD(nn_model.parameters(), lr=1e-2, weight_decay=1e-1)\n",
        "loss_history, train_history, val_history = train_model(nn_model, train_loader, val_loader, loss, optimizer, 5)"
      ]
    },
    {
      "cell_type": "markdown",
      "metadata": {
        "id": "-kKjDN3eT5hc"
      },
      "source": [
        "Добавьте слой с Batch Normalization"
      ]
    },
    {
      "cell_type": "code",
      "execution_count": 8,
      "metadata": {
        "colab": {
          "base_uri": "https://localhost:8080/"
        },
        "id": "hp23ofJ0T5hg",
        "outputId": "45a92cda-7557-4a6d-901b-24744ca12223",
        "scrolled": true
      },
      "outputs": [
        {
          "output_type": "stream",
          "name": "stdout",
          "text": [
            "Average loss: 1.925089, Train accuracy: 0.377811, Val accuracy: 0.539417\n",
            "Average loss: 1.661622, Train accuracy: 0.510562, Val accuracy: 0.575933\n",
            "Average loss: 1.615000, Train accuracy: 0.535884, Val accuracy: 0.607604\n",
            "Average loss: 1.614325, Train accuracy: 0.545371, Val accuracy: 0.606170\n",
            "Average loss: 1.627736, Train accuracy: 0.551684, Val accuracy: 0.618047\n"
          ]
        }
      ],
      "source": [
        "# We heard batch normalization is powerful, let's use it!\n",
        "# TODO: Add batch normalization after each of the hidden layers of the network, before or after non-linearity\n",
        "# Hint: check out torch.nn.BatchNorm1d\n",
        "\n",
        "nn_model = nn.Sequential(\n",
        "            Flattener(),\n",
        "            nn.Linear(3 * 32 * 32, 100),\n",
        "            nn.BatchNorm1d(100),\n",
        "            nn.ReLU(inplace=True),\n",
        "            nn.Linear(100, 100),\n",
        "            nn.BatchNorm1d(100),\n",
        "            nn.ReLU(inplace=True),\n",
        "            nn.Linear(100, 10),\n",
        "         )\n",
        "\n",
        "optimizer = optim.SGD(nn_model.parameters(), lr=1e-3, weight_decay=1e-1)\n",
        "loss_history, train_history, val_history = train_model(nn_model, train_loader, val_loader, loss, optimizer, 5)"
      ]
    },
    {
      "cell_type": "markdown",
      "metadata": {
        "id": "2mngZwevT5h0"
      },
      "source": [
        "Добавьте уменьшение скорости обучения по ходу тренировки."
      ]
    },
    {
      "cell_type": "code",
      "execution_count": null,
      "metadata": {
        "id": "8Sfx2OcRT5h5"
      },
      "outputs": [],
      "source": [
        "def train_model(model, train_loader, val_loader, loss, optimizer, num_epochs, step_size, gamma):\n",
        "    scheduler = optim.lr_scheduler.StepLR(optimizer, step_size=step_size, gamma=gamma)\n",
        "    loss_history = []\n",
        "    train_history = []\n",
        "    val_history = []\n",
        "    for epoch in range(num_epochs):\n",
        "        model.train() # Enter train mode\n",
        "        scheduler.step()\n",
        "        loss_accum = 0\n",
        "        correct_samples = 0\n",
        "        total_samples = 0\n",
        "        for i_step, (x, y) in enumerate(train_loader):\n",
        "            prediction = model(x)\n",
        "            loss_value = loss(prediction, y)\n",
        "            optimizer.zero_grad()\n",
        "            loss_value.backward()\n",
        "            optimizer.step()\n",
        "\n",
        "            _, indices = torch.max(prediction, 1)\n",
        "            correct_samples += torch.sum(indices == y)\n",
        "            total_samples += y.shape[0]\n",
        "\n",
        "            loss_accum += loss_value\n",
        "\n",
        "        ave_loss = loss_accum / (i_step + 1)\n",
        "        train_accuracy = float(correct_samples) / total_samples\n",
        "        val_accuracy = compute_accuracy(model, val_loader)\n",
        "\n",
        "        loss_history.append(float(ave_loss))\n",
        "        train_history.append(train_accuracy)\n",
        "        val_history.append(val_accuracy)\n",
        "\n",
        "        print(\"Average loss: %f, Train accuracy: %f, Val accuracy: %f\" % (ave_loss, train_accuracy, val_accuracy))\n",
        "\n",
        "    return loss_history, train_history, val_history"
      ]
    },
    {
      "cell_type": "code",
      "execution_count": null,
      "metadata": {
        "id": "dmjzrsPWT5iD",
        "scrolled": true
      },
      "outputs": [],
      "source": [
        "# Learning rate annealing\n",
        "# Reduce your learning rate 2x every 2 epochs\n",
        "# Hint: look up learning rate schedulers in PyTorch. You might need to extend train_model function a little bit too!\n",
        "\n",
        "nn_model = nn.Sequential(\n",
        "            Flattener(),\n",
        "            nn.Linear(3 * 32 * 32, 100),\n",
        "            nn.BatchNorm1d(100),\n",
        "            nn.ReLU(inplace=True),\n",
        "            nn.Linear(100, 100),\n",
        "            nn.BatchNorm1d(100),\n",
        "            nn.ReLU(inplace=True),\n",
        "            nn.Linear(100, 10),\n",
        "         )\n",
        "\n",
        "optimizer = optim.SGD(nn_model.parameters(), lr=1e-3, weight_decay=1e-1)\n",
        "loss_history, train_history, val_history = train_model(nn_model, train_loader, val_loader, loss, optimizer, 5, 2, 0.5)"
      ]
    },
    {
      "cell_type": "markdown",
      "metadata": {
        "id": "aycFBjmrT5iR"
      },
      "source": [
        "# Визуализируем ошибки модели\n",
        "\n",
        "Попробуем посмотреть, на каких изображениях наша модель ошибается.\n",
        "Для этого мы получим все предсказания модели на validation set и сравним их с истинными метками (ground truth).\n",
        "\n",
        "Первая часть - реализовать код на PyTorch, который вычисляет все предсказания модели на validation set.  \n",
        "Чтобы это сделать мы приводим код `SubsetSampler`, который просто проходит по всем заданным индексам последовательно и составляет из них батчи.\n",
        "\n",
        "Реализуйте функцию `evaluate_model`, которая прогоняет модель через все сэмплы validation set и запоминает предсказания модели и истинные метки."
      ]
    },
    {
      "cell_type": "code",
      "execution_count": 9,
      "metadata": {
        "colab": {
          "base_uri": "https://localhost:8080/"
        },
        "id": "eEcxXPwoT5iV",
        "outputId": "8e0ebb36-4316-482c-c590-86145a8ebe29"
      },
      "outputs": [
        {
          "output_type": "stream",
          "name": "stderr",
          "text": [
            "<ipython-input-9-79fb47782e21>:48: FutureWarning: The input object of type 'Tensor' is an array-like implementing one of the corresponding protocols (`__array__`, `__array_interface__` or `__array_struct__`); but not a sequence (or 0-D). In the future, this object will be coerced as if it was first converted using `np.array(obj)`. To retain the old behaviour, you have to either modify the type 'Tensor', or assign to an empty array created with `np.empty(correct_shape, dtype=object)`.\n",
            "  assert np.any(np.not_equal(gt, predictions))\n",
            "<ipython-input-9-79fb47782e21>:48: VisibleDeprecationWarning: Creating an ndarray from ragged nested sequences (which is a list-or-tuple of lists-or-tuples-or ndarrays with different lengths or shapes) is deprecated. If you meant to do this, you must specify 'dtype=object' when creating the ndarray.\n",
            "  assert np.any(np.not_equal(gt, predictions))\n"
          ]
        }
      ],
      "source": [
        "class SubsetSampler(Sampler):\n",
        "    r\"\"\"Samples elements with given indices sequentially\n",
        "\n",
        "    Arguments:\n",
        "        indices (ndarray): indices of the samples to take\n",
        "    \"\"\"\n",
        "\n",
        "    def __init__(self, indices):\n",
        "        self.indices = indices\n",
        "\n",
        "    def __iter__(self):\n",
        "        return (self.indices[i] for i in range(len(self.indices)))\n",
        "\n",
        "    def __len__(self):\n",
        "        return len(self.indices)\n",
        "\n",
        "\n",
        "def evaluate_model(model, dataset, indices):\n",
        "    \"\"\"\n",
        "    Computes predictions and ground truth labels for the indices of the dataset\n",
        "\n",
        "    Returns:\n",
        "    predictions: np array of booleans of model predictions\n",
        "    grount_truth: np array of boolean of actual labels of the dataset\n",
        "    \"\"\"\n",
        "    model.eval() # Evaluation mode\n",
        "\n",
        "    # TODO: Evaluate model on the list of indices and capture predictions\n",
        "    # and ground truth labels\n",
        "    # Hint: SubsetSampler above could be useful!\n",
        "\n",
        "    sampler = SubsetSampler(indices)\n",
        "    loader = torch.utils.data.DataLoader(dataset, sampler=sampler)\n",
        "\n",
        "    predictions, ground_truth = [], []\n",
        "    for x, y in loader:\n",
        "        _, indices = torch.max(model(x), 1)\n",
        "        predictions.append(indices)\n",
        "        ground_truth.append(y)\n",
        "\n",
        "    return predictions, ground_truth\n",
        "\n",
        "# Evaluate model on validation\n",
        "predictions, gt = evaluate_model(nn_model, data_train, val_indices)\n",
        "assert len(predictions) == len(val_indices)\n",
        "assert len(gt) == len(val_indices)\n",
        "assert gt[100] == data_train[val_indices[100]][1]\n",
        "assert np.any(np.not_equal(gt, predictions))"
      ]
    },
    {
      "cell_type": "markdown",
      "metadata": {
        "id": "0fQ9oNU2T5ii"
      },
      "source": [
        "## Confusion matrix\n",
        "Первая часть визуализации - вывести confusion matrix (https://en.wikipedia.org/wiki/Confusion_matrix ).\n",
        "\n",
        "Confusion matrix - это матрица, где каждой строке соответствуют классы предсказанный, а столбцу - классы истинных меток (ground truth). Число с координатами `i,j` - это количество сэмплов класса `j`, которые модель считает классом `i`.\n",
        "\n",
        "![image.png](attachment:image.png)\n",
        "\n",
        "Для того, чтобы облегчить вам задачу, ниже реализована функция `visualize_confusion_matrix` которая визуализирует такую матрицу.  \n",
        "Вам осталось реализовать функцию `build_confusion_matrix`, которая ее вычислит.\n",
        "\n",
        "Результатом должна быть матрица 10x10."
      ]
    },
    {
      "cell_type": "code",
      "execution_count": 10,
      "metadata": {
        "colab": {
          "base_uri": "https://localhost:8080/",
          "height": 886
        },
        "id": "f1rDyT8oT5il",
        "outputId": "c2ff0a2f-6b07-4110-beaf-18848e49260d"
      },
      "outputs": [
        {
          "output_type": "stream",
          "name": "stderr",
          "text": [
            "<ipython-input-10-399baa92d7a8>:37: DeprecationWarning: `np.int` is a deprecated alias for the builtin `int`. To silence this warning, use `int` by itself. Doing this will not modify any behavior and is safe. When replacing `np.int`, you may wish to use e.g. `np.int64` or `np.int32` to specify the precision. If you wish to review your current use, check the release note link for additional information.\n",
            "Deprecated in NumPy 1.20; for more details and guidance: https://numpy.org/devdocs/release/1.20.0-notes.html#deprecations\n",
            "  confusion_matrix = np.zeros((10,10), np.int)\n"
          ]
        },
        {
          "output_type": "display_data",
          "data": {
            "text/plain": [
              "<Figure size 1000x1000 with 2 Axes>"
            ],
            "image/png": "[encoded data removed]"
          },
          "metadata": {}
        }
      ],
      "source": [
        "def visualize_confusion_matrix(confusion_matrix):\n",
        "    \"\"\"\n",
        "    Visualizes confusion matrix\n",
        "\n",
        "    confusion_matrix: np array of ints, x axis - predicted class, y axis - actual class\n",
        "                      [i][j] should have the count of samples that were predicted to be class i,\n",
        "                      but have j in the ground truth\n",
        "\n",
        "    \"\"\"\n",
        "    # Adapted from\n",
        "    # https://stackoverflow.com/questions/2897826/confusion-matrix-with-number-of-classified-misclassified-instances-on-it-python\n",
        "    assert confusion_matrix.shape[0] == confusion_matrix.shape[1]\n",
        "    size = confusion_matrix.shape[0]\n",
        "    fig = plt.figure(figsize=(10,10))\n",
        "    plt.title(\"Confusion matrix\")\n",
        "    plt.ylabel(\"predicted\")\n",
        "    plt.xlabel(\"ground truth\")\n",
        "    res = plt.imshow(confusion_matrix, cmap='GnBu', interpolation='nearest')\n",
        "    cb = fig.colorbar(res)\n",
        "    plt.xticks(np.arange(size))\n",
        "    plt.yticks(np.arange(size))\n",
        "    for i, row in enumerate(confusion_matrix):\n",
        "        for j, count in enumerate(row):\n",
        "            plt.text(j, i, count, fontsize=14, horizontalalignment='center', verticalalignment='center')\n",
        "\n",
        "def build_confusion_matrix(predictions, ground_truth):\n",
        "    \"\"\"\n",
        "    Builds confusion matrix from predictions and ground truth\n",
        "\n",
        "    predictions: np array of ints, model predictions for all validation samples\n",
        "    ground_truth: np array of ints, ground truth for all validation samples\n",
        "\n",
        "    Returns:\n",
        "    np array of ints, (10,10), counts of samples for predicted/ground_truth classes\n",
        "    \"\"\"\n",
        "\n",
        "    confusion_matrix = np.zeros((10,10), np.int)\n",
        "\n",
        "    # TODO: Implement filling the prediction matrix\n",
        "    for pred, truth in zip(predictions, ground_truth):\n",
        "        confusion_matrix[pred][truth] += 1\n",
        "\n",
        "    return confusion_matrix\n",
        "\n",
        "confusion_matrix = build_confusion_matrix(predictions, gt)\n",
        "visualize_confusion_matrix(confusion_matrix)"
      ]
    },
    {
      "cell_type": "markdown",
      "metadata": {
        "id": "G0NumJDOT5jB"
      },
      "source": [
        "Наконец, посмотрим на изображения, соответствующие некоторым элементам этой матрицы.\n",
        "\n",
        "Как и раньше, вам дана функция `visualize_images`, которой нужно воспрользоваться при реализации функции `visualize_predicted_actual`. Эта функция должна вывести несколько примеров, соответствующих заданному элементу матрицы.\n",
        "\n",
        "Визуализируйте наиболее частые ошибки и попробуйте понять, почему модель их совершает."
      ]
    },
    {
      "cell_type": "code",
      "execution_count": null,
      "metadata": {
        "id": "h6Sb-RJfT5jH"
      },
      "outputs": [],
      "source": [
        "data_train_images = dset.SVHN('/content/gdrive/My Drive/DL_CSC/assignment2/data/', split='train')\n",
        "\n",
        "def visualize_images(indices, data, title='', max_num=10):\n",
        "    \"\"\"\n",
        "    Visualizes several images from the dataset\n",
        "\n",
        "    indices: array of indices to visualize\n",
        "    data: torch Dataset with the images\n",
        "    title: string, title of the plot\n",
        "    max_num: int, max number of images to display\n",
        "    \"\"\"\n",
        "    to_show = min(len(indices), max_num)\n",
        "    fig = plt.figure(figsize=(10,1.5))\n",
        "    fig.suptitle(title)\n",
        "    for i, index in enumerate(indices[:to_show]):\n",
        "        plt.subplot(1,to_show, i+1)\n",
        "        plt.axis('off')\n",
        "        sample = data[index][0]\n",
        "        plt.imshow(sample)\n",
        "\n",
        "def visualize_predicted_actual(predicted_class, gt_class, predictions, groud_truth, val_indices, data):\n",
        "    \"\"\"\n",
        "    Visualizes images of a ground truth class which were predicted as the other class\n",
        "\n",
        "    predicted: int 0-9, index of the predicted class\n",
        "    gt_class: int 0-9, index of the ground truth class\n",
        "    predictions: np array of ints, model predictions for all validation samples\n",
        "    ground_truth: np array of ints, ground truth for all validation samples\n",
        "    val_indices: np array of ints, indices of validation samples\n",
        "    \"\"\"\n",
        "\n",
        "    # TODO: Implement visualization using visualize_images above\n",
        "    # predictions and ground_truth are provided for validation set only, defined by val_indices\n",
        "    # Hint: numpy index arrays might be helpful\n",
        "    # https://docs.scipy.org/doc/numpy/user/basics.indexing.html#index-arrays\n",
        "    # Please make the title meaningful!\n",
        "    indices = val_indices[(predictions == predicted_class) & (groud_truth == gt_class)]\n",
        "    visualize_images(indices, data, 'Predicted as the wrong class')\n",
        "\n",
        "visualize_predicted_actual(6, 8, predictions, gt, np.array(val_indices), data_train_images)\n",
        "visualize_predicted_actual(1, 7, predictions, gt, np.array(val_indices), data_train_images)"
      ]
    },
    {
      "cell_type": "markdown",
      "metadata": {
        "id": "lh6-76mqT5jf"
      },
      "source": [
        "# Переходим к свободным упражнениям!\n",
        "\n",
        "Натренируйте модель как можно лучше - экспериментируйте сами!\n",
        "Что следует обязательно попробовать:\n",
        "- перебор гиперпараметров с помощью валидационной выборки\n",
        "- другие оптимизаторы вместо SGD\n",
        "- изменение количества слоев и их размеров\n",
        "- наличие Batch Normalization\n",
        "\n",
        "Но ограничиваться этим не стоит!\n",
        "\n",
        "Точность на валидацонной выборке должна быть доведена до **60%**\n",
        "\n",
        "За лучший результат в группе вы получите дополнительные баллы :)"
      ]
    },
    {
      "cell_type": "code",
      "execution_count": null,
      "metadata": {
        "id": "QeEfO7SkT5jm"
      },
      "outputs": [],
      "source": [
        "import itertools"
      ]
    },
    {
      "cell_type": "code",
      "execution_count": null,
      "metadata": {
        "id": "94gvGdUnZVVR"
      },
      "outputs": [],
      "source": [
        "learning_rates = [1e-3, 1e-4]\n",
        "ns_neurons = [100, 200]\n",
        "weight_decays = [1e-3, 1e-4]\n",
        "optimizers = [optim.SGD, optim.Adam, optim.RMSprop]\n",
        "n_epochs = 25"
      ]
    },
    {
      "cell_type": "code",
      "execution_count": null,
      "metadata": {
        "id": "E-Z51W8AT5j2",
        "scrolled": true
      },
      "outputs": [],
      "source": [
        "best_classifier = None\n",
        "best_optimizer = None\n",
        "best_val_accuracy = None\n",
        "\n",
        "for lr, n_neurons, weight_decay, nn_optimizer in itertools.product(learning_rates,\n",
        "                                                                ns_neurons,\n",
        "                                                                weight_decays,\n",
        "                                                                optimizers):\n",
        "    print(f'learning_rate={lr}, n_neurons={n_neurons}, weight_decay={weight_decay}, optimizer={nn_optimizer.__name__}')\n",
        "\n",
        "    nn_models = [nn.Sequential(Flattener(),\n",
        "                               nn.Linear(3 * 32 * 32, n_neurons),\n",
        "                               nn.BatchNorm1d(n_neurons),\n",
        "                               nn.ReLU(inplace=True),\n",
        "                               nn.Linear(n_neurons, 10),\n",
        "                              ),\n",
        "                 nn.Sequential(Flattener(),\n",
        "                               nn.Linear(3 * 32 * 32, n_neurons),\n",
        "                               nn.BatchNorm1d(n_neurons),\n",
        "                               nn.ReLU(inplace=True),\n",
        "                               nn.Linear(n_neurons, n_neurons),\n",
        "                               nn.BatchNorm1d(n_neurons),\n",
        "                               nn.ReLU(inplace=True),\n",
        "                               nn.Linear(n_neurons, 10),\n",
        "                              )\n",
        "                ]\n",
        "\n",
        "    for nn_model in nn_models:\n",
        "        optimizer = nn_optimizer(nn_model.parameters(), lr=lr, weight_decay=weight_decay)\n",
        "        _, _, val_hist = train_model(nn_model, train_loader, val_loader, loss, optimizer, n_epochs, 2, 0.5)\n",
        "        accuracy = val_hist[-1]\n",
        "\n",
        "        if not best_val_accuracy or accuracy > best_val_accuracy:\n",
        "            best_classifier = nn_model\n",
        "            best_optimizer = optimizer\n",
        "            best_val_accuracy = accuracy"
      ]
    },
    {
      "cell_type": "code",
      "execution_count": null,
      "metadata": {
        "id": "f0MT9BcaT5kE"
      },
      "outputs": [],
      "source": [
        "# Как всегда, в конце проверяем на test set\n",
        "test_loader = torch.utils.data.DataLoader(data_test, batch_size=batch_size)\n",
        "test_accuracy = compute_accuracy(nn_model, test_loader)\n",
        "print(\"Test accuracy: %2.4f\" % test_accuracy)"
      ]
    },
    {
      "cell_type": "code",
      "execution_count": null,
      "metadata": {
        "id": "q5x8M252T5kP"
      },
      "outputs": [],
      "source": []
    }
  ],
  "metadata": {
    "colab": {
      "provenance": [],
      "include_colab_link": true
    },
    "kernelspec": {
      "display_name": "Python 3",
      "name": "python3"
    },
    "language_info": {
      "codemirror_mode": {
        "name": "ipython",
        "version": 3
      },
      "file_extension": ".py",
      "mimetype": "text/x-python",
      "name": "python",
      "nbconvert_exporter": "python",
      "pygments_lexer": "ipython3",
      "version": "3.10.8"
    }
  },
  "nbformat": 4,
  "nbformat_minor": 0
}